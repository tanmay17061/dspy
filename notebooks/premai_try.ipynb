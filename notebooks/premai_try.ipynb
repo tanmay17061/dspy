{
 "cells": [
  {
   "cell_type": "code",
   "execution_count": null,
   "metadata": {},
   "outputs": [],
   "source": [
    "! pip install premai"
   ]
  },
  {
   "cell_type": "code",
   "execution_count": 1,
   "metadata": {},
   "outputs": [],
   "source": [
    "from premai import Prem\n",
    "\n",
    "client = Prem(\n",
    "    api_key=\"\"\n",
    ")\n",
    "\n",
    "project_id = 1646"
   ]
  },
  {
   "cell_type": "code",
   "execution_count": 49,
   "metadata": {},
   "outputs": [],
   "source": [
    "content = \\\n",
    "\"\"\"You are parsing an input address (in India) into its components. Your performance will be evaluated on the following criteria:\n",
    "    1. information_repetition: same information from the input address should not be repeated in the components.\n",
    "    2. information_completeness: a critical address information should not be missed from the components.\n",
    "    3. irrelevance_filter: irrelevant piece of information (eg- spurious digits, characters etc) should be filtered out.\n",
    "    4. correctness: each parsed component (i.e, each key-value pair) should be correct on its own.\n",
    "    5. precision: you can not assume new components, which are not in the input address. eg- you can not assume state from input city, even if it is very obvious.\n",
    "    You will also judge if the input address is \"complete\" to be pointing to a single unit of human occupancy.\n",
    "---\n",
    "\n",
    "Follow the following format.\n",
    "\n",
    "Input Address: ${input_address}\n",
    "Reasoning: Let's think step by step in order to ${produce the address_components and their completeness}. We ...\n",
    "Address Components and Completeness : a JSON consisting of a few important components: 'house_number', 'city', 'state', 'pincode'. Any other component (eg- 'block', 'ward_number', 'sector', 'society_name', 'locality', 'street_name', 'street_number' 'colony_name', 'landmark', 'care_of', 'house_name', 'village', 'district', etc.), if present, should be filled. Every part of the input_address should be parsed into exactly 1 component. Fill a component with N/A in case it is missing. Make sure to output only a single JSON in this field. Apart from these components, also include an extra key: \"address_complete\", with its value as your boolean judgement of the address completeness.\n",
    "---\n",
    "\n",
    "Input Address: HNO 8146 STNO 13 MILERGANJ ludhiana\"\"\""
   ]
  },
  {
   "cell_type": "code",
   "execution_count": 50,
   "metadata": {},
   "outputs": [
    {
     "name": "stdout",
     "output_type": "stream",
     "text": [
      "[ResponseChoice(index=0, message=Message(role=<RoleEnum.ASSISTANT: 'assistant'>, content='Input Address: HNO 8146 STNO 13 MILERGANJ ludhiana\\n\\nReasoning: Let\\'s think step by step in order to produce the address components and their completeness. We can identify the house number as \"8146\" and the street number as \"13\" from the \"HNO\" and \"STNO\" abbreviations. The locality is \"MILERGANJ\" and the city is \"ludhiana\" (which should be \"Ludhiana\" with a capital \\'L\\'). \\n\\nAddress Components and Completeness : \\n{\\n\"house_number\": \"8146\",\\n\"street_number\": \"13\",\\n\"locality\": \"MILERGANJ\",\\n\"city\": \"Ludhiana\",\\n\"state\": \"N/A\",\\n\"pincode\": \"N/A\",\\n\"address_complete\": false\\n}', additional_properties={'tool_calls': None}), finish_reason='stop', additional_properties={})]\n"
     ]
    }
   ],
   "source": [
    "messages = [\n",
    "    {\"role\": \"user\", \"content\": content},\n",
    "]\n",
    "project_id = 1646\n",
    "\n",
    "# Create completion\n",
    "response = client.chat.completions.create(\n",
    "    project_id=project_id,\n",
    "    model=\"llama-3-70b-instruct\",\n",
    "    messages=messages,\n",
    ")\n",
    "\n",
    "print(response.choices)"
   ]
  },
  {
   "cell_type": "code",
   "execution_count": 51,
   "metadata": {},
   "outputs": [
    {
     "name": "stdout",
     "output_type": "stream",
     "text": [
      "Input Address: HNO 8146 STNO 13 MILERGANJ ludhiana\n",
      "\n",
      "Reasoning: Let's think step by step in order to produce the address components and their completeness. We can identify the house number as \"8146\" and the street number as \"13\" from the \"HNO\" and \"STNO\" abbreviations. The locality is \"MILERGANJ\" and the city is \"ludhiana\" (which should be \"Ludhiana\" with a capital 'L'). \n",
      "\n",
      "Address Components and Completeness : \n",
      "{\n",
      "\"house_number\": \"8146\",\n",
      "\"street_number\": \"13\",\n",
      "\"locality\": \"MILERGANJ\",\n",
      "\"city\": \"Ludhiana\",\n",
      "\"state\": \"N/A\",\n",
      "\"pincode\": \"N/A\",\n",
      "\"address_complete\": false\n",
      "}\n"
     ]
    }
   ],
   "source": [
    "print(response.choices[0].message.content)"
   ]
  },
  {
   "cell_type": "code",
   "execution_count": null,
   "metadata": {},
   "outputs": [],
   "source": []
  }
 ],
 "metadata": {
  "kernelspec": {
   "display_name": "premai",
   "language": "python",
   "name": "python3"
  },
  "language_info": {
   "codemirror_mode": {
    "name": "ipython",
    "version": 3
   },
   "file_extension": ".py",
   "mimetype": "text/x-python",
   "name": "python",
   "nbconvert_exporter": "python",
   "pygments_lexer": "ipython3",
   "version": "3.9.19"
  }
 },
 "nbformat": 4,
 "nbformat_minor": 2
}
