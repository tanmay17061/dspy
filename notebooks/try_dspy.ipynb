{
 "cells": [
  {
   "cell_type": "markdown",
   "id": "457d7673",
   "metadata": {},
   "source": [
    "## Installations"
   ]
  },
  {
   "cell_type": "code",
   "execution_count": 1,
   "id": "79332806",
   "metadata": {},
   "outputs": [
    {
     "name": "stdout",
     "output_type": "stream",
     "text": [
      "Collecting structlog\n",
      "  Using cached structlog-24.1.0-py3-none-any.whl.metadata (6.9 kB)\n",
      "Using cached structlog-24.1.0-py3-none-any.whl (65 kB)\n",
      "Installing collected packages: structlog\n",
      "Successfully installed structlog-24.1.0\n",
      "Collecting Jinja2\n",
      "  Using cached Jinja2-3.1.3-py3-none-any.whl.metadata (3.3 kB)\n",
      "Requirement already satisfied: MarkupSafe>=2.0 in /Users/tanmaygarg/miniconda3/envs/dspy_fork/lib/python3.10/site-packages (from Jinja2) (2.1.5)\n",
      "Using cached Jinja2-3.1.3-py3-none-any.whl (133 kB)\n",
      "Installing collected packages: Jinja2\n",
      "Successfully installed Jinja2-3.1.3\n",
      "Collecting google-generativeai\n",
      "  Using cached google_generativeai-0.5.0-py3-none-any.whl.metadata (3.9 kB)\n",
      "Collecting google-ai-generativelanguage==0.6.1 (from google-generativeai)\n",
      "  Using cached google_ai_generativelanguage-0.6.1-py3-none-any.whl.metadata (5.2 kB)\n",
      "Collecting google-api-core (from google-generativeai)\n",
      "  Using cached google_api_core-2.18.0-py3-none-any.whl.metadata (2.7 kB)\n",
      "Collecting google-api-python-client (from google-generativeai)\n",
      "  Using cached google_api_python_client-2.125.0-py2.py3-none-any.whl.metadata (6.6 kB)\n",
      "Collecting google-auth>=2.15.0 (from google-generativeai)\n",
      "  Using cached google_auth-2.29.0-py2.py3-none-any.whl.metadata (4.7 kB)\n",
      "Collecting protobuf (from google-generativeai)\n",
      "  Using cached protobuf-5.26.1-cp37-abi3-macosx_10_9_universal2.whl.metadata (592 bytes)\n",
      "Requirement already satisfied: pydantic in /Users/tanmaygarg/miniconda3/envs/dspy_fork/lib/python3.10/site-packages (from google-generativeai) (2.7.0)\n",
      "Requirement already satisfied: tqdm in /Users/tanmaygarg/miniconda3/envs/dspy_fork/lib/python3.10/site-packages (from google-generativeai) (4.66.2)\n",
      "Requirement already satisfied: typing-extensions in /Users/tanmaygarg/miniconda3/envs/dspy_fork/lib/python3.10/site-packages (from google-generativeai) (4.11.0)\n",
      "Collecting proto-plus<2.0.0dev,>=1.22.3 (from google-ai-generativelanguage==0.6.1->google-generativeai)\n",
      "  Using cached proto_plus-1.23.0-py3-none-any.whl.metadata (2.2 kB)\n",
      "Collecting protobuf (from google-generativeai)\n",
      "  Using cached protobuf-4.25.3-cp37-abi3-macosx_10_9_universal2.whl.metadata (541 bytes)\n",
      "Collecting googleapis-common-protos<2.0.dev0,>=1.56.2 (from google-api-core->google-generativeai)\n",
      "  Using cached googleapis_common_protos-1.63.0-py2.py3-none-any.whl.metadata (1.5 kB)\n",
      "Requirement already satisfied: requests<3.0.0.dev0,>=2.18.0 in /Users/tanmaygarg/miniconda3/envs/dspy_fork/lib/python3.10/site-packages (from google-api-core->google-generativeai) (2.31.0)\n",
      "Collecting cachetools<6.0,>=2.0.0 (from google-auth>=2.15.0->google-generativeai)\n",
      "  Using cached cachetools-5.3.3-py3-none-any.whl.metadata (5.3 kB)\n",
      "Collecting pyasn1-modules>=0.2.1 (from google-auth>=2.15.0->google-generativeai)\n",
      "  Using cached pyasn1_modules-0.4.0-py3-none-any.whl.metadata (3.4 kB)\n",
      "Collecting rsa<5,>=3.1.4 (from google-auth>=2.15.0->google-generativeai)\n",
      "  Using cached rsa-4.9-py3-none-any.whl.metadata (4.2 kB)\n",
      "Collecting httplib2<1.dev0,>=0.19.0 (from google-api-python-client->google-generativeai)\n",
      "  Using cached httplib2-0.22.0-py3-none-any.whl.metadata (2.6 kB)\n",
      "Collecting google-auth-httplib2<1.0.0,>=0.2.0 (from google-api-python-client->google-generativeai)\n",
      "  Using cached google_auth_httplib2-0.2.0-py2.py3-none-any.whl.metadata (2.2 kB)\n",
      "Collecting uritemplate<5,>=3.0.1 (from google-api-python-client->google-generativeai)\n",
      "  Using cached uritemplate-4.1.1-py2.py3-none-any.whl.metadata (2.9 kB)\n",
      "Requirement already satisfied: annotated-types>=0.4.0 in /Users/tanmaygarg/miniconda3/envs/dspy_fork/lib/python3.10/site-packages (from pydantic->google-generativeai) (0.6.0)\n",
      "Requirement already satisfied: pydantic-core==2.18.1 in /Users/tanmaygarg/miniconda3/envs/dspy_fork/lib/python3.10/site-packages (from pydantic->google-generativeai) (2.18.1)\n",
      "Collecting grpcio<2.0dev,>=1.33.2 (from google-api-core[grpc]!=2.0.*,!=2.1.*,!=2.10.*,!=2.2.*,!=2.3.*,!=2.4.*,!=2.5.*,!=2.6.*,!=2.7.*,!=2.8.*,!=2.9.*,<3.0.0dev,>=1.34.1->google-ai-generativelanguage==0.6.1->google-generativeai)\n",
      "  Using cached grpcio-1.62.1-cp310-cp310-macosx_12_0_universal2.whl.metadata (4.0 kB)\n",
      "Collecting grpcio-status<2.0.dev0,>=1.33.2 (from google-api-core[grpc]!=2.0.*,!=2.1.*,!=2.10.*,!=2.2.*,!=2.3.*,!=2.4.*,!=2.5.*,!=2.6.*,!=2.7.*,!=2.8.*,!=2.9.*,<3.0.0dev,>=1.34.1->google-ai-generativelanguage==0.6.1->google-generativeai)\n",
      "  Using cached grpcio_status-1.62.1-py3-none-any.whl.metadata (1.3 kB)\n",
      "Collecting pyparsing!=3.0.0,!=3.0.1,!=3.0.2,!=3.0.3,<4,>=2.4.2 (from httplib2<1.dev0,>=0.19.0->google-api-python-client->google-generativeai)\n",
      "  Using cached pyparsing-3.1.2-py3-none-any.whl.metadata (5.1 kB)\n",
      "Collecting pyasn1<0.7.0,>=0.4.6 (from pyasn1-modules>=0.2.1->google-auth>=2.15.0->google-generativeai)\n",
      "  Using cached pyasn1-0.6.0-py2.py3-none-any.whl.metadata (8.3 kB)\n",
      "Requirement already satisfied: charset-normalizer<4,>=2 in /Users/tanmaygarg/miniconda3/envs/dspy_fork/lib/python3.10/site-packages (from requests<3.0.0.dev0,>=2.18.0->google-api-core->google-generativeai) (3.3.2)\n",
      "Requirement already satisfied: idna<4,>=2.5 in /Users/tanmaygarg/miniconda3/envs/dspy_fork/lib/python3.10/site-packages (from requests<3.0.0.dev0,>=2.18.0->google-api-core->google-generativeai) (3.7)\n",
      "Requirement already satisfied: urllib3<3,>=1.21.1 in /Users/tanmaygarg/miniconda3/envs/dspy_fork/lib/python3.10/site-packages (from requests<3.0.0.dev0,>=2.18.0->google-api-core->google-generativeai) (2.2.1)\n",
      "Requirement already satisfied: certifi>=2017.4.17 in /Users/tanmaygarg/miniconda3/envs/dspy_fork/lib/python3.10/site-packages (from requests<3.0.0.dev0,>=2.18.0->google-api-core->google-generativeai) (2024.2.2)\n",
      "Using cached google_generativeai-0.5.0-py3-none-any.whl (142 kB)\n",
      "Using cached google_ai_generativelanguage-0.6.1-py3-none-any.whl (663 kB)\n",
      "Using cached google_api_core-2.18.0-py3-none-any.whl (138 kB)\n",
      "Using cached google_auth-2.29.0-py2.py3-none-any.whl (189 kB)\n",
      "Using cached protobuf-4.25.3-cp37-abi3-macosx_10_9_universal2.whl (394 kB)\n",
      "Using cached google_api_python_client-2.125.0-py2.py3-none-any.whl (12.5 MB)\n",
      "Using cached cachetools-5.3.3-py3-none-any.whl (9.3 kB)\n",
      "Using cached google_auth_httplib2-0.2.0-py2.py3-none-any.whl (9.3 kB)\n",
      "Using cached googleapis_common_protos-1.63.0-py2.py3-none-any.whl (229 kB)\n",
      "Using cached httplib2-0.22.0-py3-none-any.whl (96 kB)\n",
      "Using cached proto_plus-1.23.0-py3-none-any.whl (48 kB)\n",
      "Using cached pyasn1_modules-0.4.0-py3-none-any.whl (181 kB)\n",
      "Using cached rsa-4.9-py3-none-any.whl (34 kB)\n",
      "Using cached uritemplate-4.1.1-py2.py3-none-any.whl (10 kB)\n",
      "Using cached grpcio-1.62.1-cp310-cp310-macosx_12_0_universal2.whl (10.0 MB)\n",
      "Using cached grpcio_status-1.62.1-py3-none-any.whl (14 kB)\n",
      "Using cached pyasn1-0.6.0-py2.py3-none-any.whl (85 kB)\n",
      "Using cached pyparsing-3.1.2-py3-none-any.whl (103 kB)\n",
      "Installing collected packages: uritemplate, pyparsing, pyasn1, protobuf, grpcio, cachetools, rsa, pyasn1-modules, proto-plus, httplib2, googleapis-common-protos, grpcio-status, google-auth, google-auth-httplib2, google-api-core, google-api-python-client, google-ai-generativelanguage, google-generativeai\n",
      "Successfully installed cachetools-5.3.3 google-ai-generativelanguage-0.6.1 google-api-core-2.18.0 google-api-python-client-2.125.0 google-auth-2.29.0 google-auth-httplib2-0.2.0 google-generativeai-0.5.0 googleapis-common-protos-1.63.0 grpcio-1.62.1 grpcio-status-1.62.1 httplib2-0.22.0 proto-plus-1.23.0 protobuf-4.25.3 pyasn1-0.6.0 pyasn1-modules-0.4.0 pyparsing-3.1.2 rsa-4.9 uritemplate-4.1.1\n"
     ]
    }
   ],
   "source": [
    "# ! pip install dspy-ai==2.4.3\n",
    "! pip install structlog\n",
    "# ! pip install qdrant-client==1.8.0\n",
    "# ! pip install fastembed\n",
    "! pip install Jinja2\n",
    "! pip install google-generativeai"
   ]
  },
  {
   "cell_type": "code",
   "execution_count": 2,
   "id": "456cda9a",
   "metadata": {},
   "outputs": [
    {
     "name": "stdout",
     "output_type": "stream",
     "text": [
      "Name: structlog\n",
      "Version: 24.1.0\n",
      "Summary: Structured Logging for Python\n",
      "Home-page: \n",
      "Author: \n",
      "Author-email: Hynek Schlawack <hs@ox.cx>\n",
      "License: \n",
      "Location: /Users/tanmaygarg/miniconda3/envs/dspy_fork/lib/python3.10/site-packages\n",
      "Requires: \n",
      "Required-by: \n"
     ]
    }
   ],
   "source": [
    "!pip show structlog"
   ]
  },
  {
   "cell_type": "code",
   "execution_count": 58,
   "id": "bf48a61c",
   "metadata": {},
   "outputs": [
    {
     "name": "stderr",
     "output_type": "stream",
     "text": [
      "huggingface/tokenizers: The current process just got forked, after parallelism has already been used. Disabling parallelism to avoid deadlocks...\n",
      "To disable this warning, you can either:\n",
      "\t- Avoid using `tokenizers` before the fork if possible\n",
      "\t- Explicitly set the environment variable TOKENIZERS_PARALLELISM=(true | false)\n"
     ]
    },
    {
     "name": "stdout",
     "output_type": "stream",
     "text": [
      "Collecting Jinja2\n",
      "  Using cached Jinja2-3.1.3-py3-none-any.whl.metadata (3.3 kB)\n",
      "Requirement already satisfied: MarkupSafe>=2.0 in /Users/tanmaygarg/miniconda3/envs/dspy/lib/python3.10/site-packages (from Jinja2) (2.1.5)\n",
      "Using cached Jinja2-3.1.3-py3-none-any.whl (133 kB)\n",
      "Installing collected packages: Jinja2\n",
      "Successfully installed Jinja2-3.1.3\n"
     ]
    }
   ],
   "source": [
    "# ! pip install Jinja2"
   ]
  },
  {
   "cell_type": "markdown",
   "id": "86187cc8",
   "metadata": {},
   "source": [
    "## Set LLM API key"
   ]
  },
  {
   "cell_type": "code",
   "execution_count": 18,
   "id": "e294d08e",
   "metadata": {},
   "outputs": [],
   "source": [
    "# import openai\n",
    "# openai.api_key = \"sk-foobar\"\n",
    "\n",
    "import os\n",
    "\n",
    "\n",
    "# Or add your OPEN_AI_API_KEY\n",
    "os.environ['OPENAI_API_KEY'] = 'A SECRET'\n",
    "\n",
    "if 'OPENAI_API_KEY' not in os.environ:\n",
    "    raise Exception('Environment variable \"OPENAI_API_KEY\" not set')\n"
   ]
  },
  {
   "cell_type": "code",
   "execution_count": 19,
   "id": "72e6f942",
   "metadata": {},
   "outputs": [
    {
     "data": {
      "text/plain": [
       "'SOME KEY'"
      ]
     },
     "execution_count": 19,
     "metadata": {},
     "output_type": "execute_result"
    }
   ],
   "source": [
    "import os\n",
    "# os.environ.pop('OPENAI_API_KEY')\n",
    "os.environ.get('OPENAI_API_KEY')"
   ]
  },
  {
   "cell_type": "code",
   "execution_count": 64,
   "id": "0cba930f",
   "metadata": {},
   "outputs": [],
   "source": [
    "import pandas as pd\n",
    "pd.set_option('display.max_colwidth', None)\n",
    "pd.set_option('display.max_columns', None)  \n",
    "pd.set_option('display.max_rows', None)"
   ]
  },
  {
   "cell_type": "markdown",
   "id": "0b146a20",
   "metadata": {},
   "source": [
    "## Import FAQs from the FAQs markdown"
   ]
  },
  {
   "cell_type": "code",
   "execution_count": 20,
   "id": "e41ae9a1",
   "metadata": {},
   "outputs": [
    {
     "data": {
      "text/plain": [
       "[{'input_address': 'chandra nagar thakur mohlla koteswar mandir Gwalior Gwalior Madhya Pradesh 474003',\n",
       "  'address_components': '{ \"house_number\": \"N/A\", \"city\": \"Gwalior\", \"state\": \"Madhya Pradesh\", \"pincode\": \"474003\", \"locality\": \"chandra nagar thakur mohlla\", \"landmark\": \"koteswar mandir\"}'},\n",
       " {'input_address': 'WARD 09 LASANPUR BUARI DAGARUA PURNIA',\n",
       "  'address_components': '{\"house_number\": \"N/A\", \"ward_number\": \"09\", \"city\": \"Purnia\", \"state\": \"N/A\", \"pincode\": \"N/A\", \"locality\": \"Lasanpur Buari Dagarua\"}'},\n",
       " {'input_address': 'Room No 133 RAK Road  Wadala Arvi Mumbai Maharashtra 400031',\n",
       "  'address_components': '{ \"house_number\": \"Room No 133\", \"city\": \"Mumbai\", \"state\": \"Maharashtra\", \"pincode\": \"400031\", \"locality\": \"Wadala\", \"street_name\": \"RAK Road\"}'},\n",
       " {'input_address': 'C-102 Payal Colony Sector 14 Gurgaon',\n",
       "  'address_components': '{ \"house_number\": \"C-102\", \"city\": \"Gurgaon\", \"state\": \"Haryana\", \"pincode\": \"N/A\", \"colony_name\": \"Payal Colony\", \"sector\": \"Sector 14\" } '},\n",
       " {'input_address': 'D-4/181,182 D-BLOCK SULTANPURI New Delhi Delhi Delhi 110086',\n",
       "  'address_components': '{\"house_number\": \"D-4/181,182\", \"city\": \"New Delhi\", \"state\": \"Delhi\", \"pincode\": \"110086\", \"block\": \"D-BLOCK\"}'}]"
      ]
     },
     "execution_count": 20,
     "metadata": {},
     "output_type": "execute_result"
    }
   ],
   "source": [
    "# Load FAQs\n",
    "import re\n",
    "import random\n",
    "\n",
    "f = open(\"faqs_parsings.md\")\n",
    "markdown_content = f.read()\n",
    "\n",
    "def parse_questions(markdown_content):\n",
    "    # Regular expression pattern for finding questions\n",
    "    question_pattern = r'Q: (.+?)\\nA: (.+?)(?=\\n\\nQ:|\\Z)'\n",
    "\n",
    "    matches = re.findall(question_pattern, markdown_content, re.DOTALL)\n",
    "    ret_l = []\n",
    "    for match in matches:\n",
    "        ret_l.append({\"input_address\": match[0], \"address_components\": match[1], })\n",
    "    return ret_l\n",
    "\n",
    "# Parsing the markdown content to get only questions\n",
    "all_faqs = parse_questions(markdown_content)\n",
    "\n",
    "random.seed(42)\n",
    "random.shuffle(all_faqs)\n",
    "\n",
    "# Displaying the first few extracted questions\n",
    "all_faqs[:5]  # Displaying only the first few for brevity\n"
   ]
  },
  {
   "cell_type": "markdown",
   "id": "46ccb7d6",
   "metadata": {},
   "source": [
    "## Initalize the LLM and retriever models and configure them in DSPy"
   ]
  },
  {
   "cell_type": "code",
   "execution_count": 21,
   "id": "470f6bab",
   "metadata": {},
   "outputs": [],
   "source": [
    "# NOTE: assumes weaviate-client version 3.*\n",
    "\n",
    "# Connect to Weaviate Retriever and configure LLM\n",
    "import dspy\n",
    "# import os\n",
    "\n",
    "import openai\n",
    "\n",
    "\n",
    "gemini = dspy.Google(api_key=\"A SECRET\")\n",
    "turbo_35 = dspy.OpenAI(model=\"gpt-3.5-turbo\", max_tokens=1000, model_type='chat')\n",
    "turbo_4 = dspy.OpenAI(model=\"gpt-4-turbo\", max_tokens=1000, model_type='chat')\n",
    "\n",
    "\n",
    "dspy.settings.configure(lm=turbo_35)"
   ]
  },
  {
   "cell_type": "markdown",
   "id": "12b920e3",
   "metadata": {},
   "source": [
    "### Test that the LLM is working fine"
   ]
  },
  {
   "cell_type": "code",
   "execution_count": 26,
   "id": "a367c9cd",
   "metadata": {},
   "outputs": [],
   "source": [
    "# print(dspy.settings.lm(\"Write a 3 line poem about neural networks, as if you are from New Delhi, India\"))\n",
    "\n",
    "# context_example = dspy.OpenAI(model=\"gpt-4\")\n",
    "# with dspy.context(llm=context_example):\n",
    "#     print(context_example(\"Write a 3 line poem about neural networks.\"))"
   ]
  },
  {
   "cell_type": "code",
   "execution_count": 27,
   "id": "f590f293",
   "metadata": {},
   "outputs": [],
   "source": [
    "# reply = turbo_4(\"\")\n",
    "# print(reply[0])"
   ]
  },
  {
   "cell_type": "markdown",
   "id": "a7c34f8d",
   "metadata": {},
   "source": [
    "## Wrap each FAQ into an `dspy.Example` object\n",
    "\n",
    "The dspy `Example` object optionally lets you attach metadata, or additional labels, to input/output pairs.\n",
    "\n",
    "For example, you may want to jointly supervise the answer as well as the context the retrieval system produced to feed into the answer generator."
   ]
  },
  {
   "cell_type": "code",
   "execution_count": 28,
   "id": "0d1f1f7a",
   "metadata": {},
   "outputs": [
    {
     "data": {
      "text/plain": [
       "21"
      ]
     },
     "execution_count": 28,
     "metadata": {},
     "output_type": "execute_result"
    }
   ],
   "source": [
    "len(all_faqs)"
   ]
  },
  {
   "cell_type": "code",
   "execution_count": 29,
   "id": "8449b13d",
   "metadata": {},
   "outputs": [],
   "source": [
    "# Load into dspy datasets\n",
    "import dspy\n",
    "\n",
    "trainset = all_faqs[:9] # 20 examples for training\n",
    "devset = all_faqs[9:] # remaining examples for development\n",
    "# testset = all_faqs[14:] # 14 examples for testing\n",
    "\n",
    "\n",
    "trainset = [dspy.Example(**faq).with_inputs(\"input_address\") for faq in trainset]\n",
    "devset = [dspy.Example(**faq).with_inputs(\"input_address\") for faq in devset]\n",
    "# testset = [dspy.Example(**faq).with_inputs(\"question\") for faq in testset]"
   ]
  },
  {
   "cell_type": "code",
   "execution_count": 30,
   "id": "54a884b3",
   "metadata": {},
   "outputs": [
    {
     "data": {
      "text/plain": [
       "Example({'input_address': 'chandra nagar thakur mohlla koteswar mandir Gwalior Gwalior Madhya Pradesh 474003', 'address_components': '{ \"house_number\": \"N/A\", \"city\": \"Gwalior\", \"state\": \"Madhya Pradesh\", \"pincode\": \"474003\", \"locality\": \"chandra nagar thakur mohlla\", \"landmark\": \"koteswar mandir\"}'}) (input_keys={'input_address'})"
      ]
     },
     "execution_count": 30,
     "metadata": {},
     "output_type": "execute_result"
    }
   ],
   "source": [
    "trainset[0]"
   ]
  },
  {
   "cell_type": "markdown",
   "id": "f175ab89",
   "metadata": {},
   "source": [
    "# 2. LLM Metrics\n",
    "\n",
    "Define a Metric for Performance."
   ]
  },
  {
   "cell_type": "code",
   "execution_count": 92,
   "id": "07a5411b",
   "metadata": {},
   "outputs": [],
   "source": [
    "import json\n",
    "# This is a WIP, the next step is to optimize this metric as itself a DSPy module (pretty meta)\n",
    "\n",
    "# Reference - https://github.com/stanfordnlp/dspy/blob/main/examples/tweets/tweet_metric.py\n",
    "\n",
    "metricLM = turbo_4\n",
    "\n",
    "# Signature for LLM assessments.\n",
    "\n",
    "class Assessment1(dspy.Signature):\n",
    "    \"\"\"Assess the quality of an input address parsed into address components based on a criterion.\"\"\"\n",
    "\n",
    "    assessment_criterion = dspy.InputField(desc=\"The evaluation criterion.\")\n",
    "    assessed_input_address = dspy.InputField(desc=\"The input address.\")\n",
    "    assessed_components = dspy.InputField(desc=\"The components from the input address.\")\n",
    "    assessment_answer = dspy.OutputField(desc=\"A rating between 1 and 5. Only output the rating and nothing else.\")\n",
    "\n",
    "def metric1(gold, pred, trace=None):\n",
    "    input_address = gold.input_address\n",
    "    predicted_components = pred.address_components\n",
    "    gold_components = gold.address_components\n",
    "\n",
    "    \n",
    "    print(f\"Input address: {input_address}\")\n",
    "    print(f\"Predicted components: {predicted_components}\")\n",
    "\n",
    "    \n",
    "    information_repetition = \"We do not want the same piece of information from the input address being repeated into multiple components.\"\n",
    "    information_completeness = \"We do not want some critical piece of information to be missed in the parsed components.\"\n",
    "    irrelevance_filter = \"We do not want some irrelevant piece of information (eg- spurious digits, etc) to be captured in unrelated components.\"\n",
    "\n",
    "    try:\n",
    "        j = json.loads(predicted_components)\n",
    "    except:\n",
    "        # no tolerance for non-parseable output\n",
    "        return 0.0\n",
    "    \n",
    "    # make sure the keys match.\n",
    "    pred_keys = set(json.loads(predicted_components).keys())\n",
    "    gold_keys = set(json.loads(gold_components).keys())\n",
    "    num_keys_match = len(pred_keys.intersection(gold_keys))\n",
    "    num_keys_mismatch = len(pred_keys) + len(gold_keys) - (2 * num_keys_match)\n",
    "    if num_keys_match == 0 and num_keys_mismatch > 0: return 0.0\n",
    "    ratio_keys_match = num_keys_match / len(gold_keys)\n",
    "    ratio_keys_mismatch = num_keys_mismatch / len(gold_keys)\n",
    "    with dspy.context(lm=metricLM):\n",
    "        # context = dspy.Retrieve(k=3)(question).passages\n",
    "        information_repetition = dspy.ChainOfThought(Assessment1)(assessment_criterion=information_repetition, assessed_input_address=input_address, assessed_components=predicted_components)\n",
    "        information_completeness = dspy.ChainOfThought(Assessment1)(assessment_criterion=information_completeness, assessed_input_address=input_address, assessed_components=predicted_components)\n",
    "        irrelevance_filter = dspy.ChainOfThought(Assessment1)(assessment_criterion=irrelevance_filter, assessed_input_address=input_address, assessed_components=predicted_components)\n",
    "    \n",
    "    print(f\"information_repetition: {information_repetition.assessment_answer}\")\n",
    "    print(f\"information_completeness: {information_completeness.assessment_answer}\")\n",
    "    print(f\"irrelevance_filter: {irrelevance_filter.assessment_answer}\")\n",
    "\n",
    "    total = (float(information_repetition.assessment_answer) + float(information_completeness.assessment_answer)*2 + float(irrelevance_filter.assessment_answer) + ratio_keys_match*10 - ratio_keys_mismatch*10)\n",
    "    \n",
    "    return total / 24.0"
   ]
  },
  {
   "cell_type": "markdown",
   "id": "2a5202b5",
   "metadata": {},
   "source": [
    "# 3. The DSPy Programming Model\n",
    "\n",
    "This block of first code will initilaize the `GenerateAnswer` signature.\n",
    "\n",
    "Then we will compose a `dspy.Module` consisting of:\n",
    "- Retrieve\n",
    "- GenerateAnswer\n",
    "\n",
    "The DSPy programming model is one of the most powerful aspects of DSPy, we get:\n",
    "- An intuitive interface to compose prompts into programs.\n",
    "- A clean way to organize prompts into Signatures.\n",
    "- Structured output parsing with `dspy.OutputField`\n",
    "- Built-in prompt extensions such as `ChainOfThought`, `ReAct`, and more!"
   ]
  },
  {
   "cell_type": "code",
   "execution_count": 93,
   "id": "6c5ce19d",
   "metadata": {},
   "outputs": [],
   "source": [
    "class GenerateComponents(dspy.Signature):\n",
    "    \"\"\"You are parsing an input address into its components. The output components should be a JSON dictionary, with the key as the component type and the value as the component value. Your performance will be evaluated on the following criteria:\n",
    "    1. information_repetition: same information from the input address should not be repeated in the components.\n",
    "    2. information_completeness: a critical address information should not be missed from the components.\n",
    "    3. irrelevance_filter: irrelevant piece of information (eg- spurious digits, characters etc) should be filtered out.\n",
    "    \"\"\"\n",
    "    \n",
    "    input_address = dspy.InputField()\n",
    "    address_components = dspy.OutputField()\n",
    "\n",
    "class ValidateComponents(dspy.Signature):\n",
    "    \"\"\"You are validating (and correcting) an input address to address components mapping. Your job is to correct the parsings. Please take jour job seriously.\"\"\"\n",
    "    \n",
    "    input_address = dspy.InputField()\n",
    "    input_address_components = dspy.InputField()\n",
    "    address_components = dspy.OutputField(desc=\"validated and corrected address components\")\n"
   ]
  },
  {
   "cell_type": "code",
   "execution_count": 94,
   "id": "ad90d665",
   "metadata": {},
   "outputs": [],
   "source": [
    "class AddressParser(dspy.Module):\n",
    "    def __init__(self):\n",
    "        super().__init__()\n",
    "\n",
    "        self.generate_components = dspy.ChainOfThought(GenerateComponents)\n",
    "        self.validate_components = dspy.ChainOfThought(ValidateComponents)\n",
    "    \n",
    "    def forward(self, input_address):\n",
    "        history = []\n",
    "        predictions = []\n",
    "        prediction = self.generate_components(input_address=input_address)\n",
    "        history.append(dspy.settings.lm.inspect_history(n=1))\n",
    "        predictions.append(prediction.address_components)\n",
    "\n",
    "        # prediction = self.validate_components(input_address=input_address, input_address_components=prediction.address_components)\n",
    "        # history.append(dspy.settings.lm.inspect_history(n=1))\n",
    "        # predictions.append(prediction.address_components)\n",
    "\n",
    "        address_components = prediction.address_components\n",
    "\n",
    "        return dspy.Prediction(address_components=address_components, input_address=input_address, predictions=predictions, history=history)"
   ]
  },
  {
   "cell_type": "code",
   "execution_count": 95,
   "id": "473f4d69",
   "metadata": {},
   "outputs": [],
   "source": [
    "uncompiled_bot = AddressParser()\n",
    "# compiled_bot = AddressParser()"
   ]
  },
  {
   "cell_type": "markdown",
   "id": "17f3dda6",
   "metadata": {},
   "source": [
    "# 4. DSPy Optimization"
   ]
  },
  {
   "cell_type": "code",
   "execution_count": 96,
   "id": "cc24f324",
   "metadata": {},
   "outputs": [
    {
     "name": "stderr",
     "output_type": "stream",
     "text": [
      "Average Metric: 0.7361111111111109 / 5  (14.7): 100%|██████████| 5/5 [00:00<00:00, 439.65it/s]"
     ]
    },
    {
     "name": "stdout",
     "output_type": "stream",
     "text": [
      "\n",
      "\n",
      "\n",
      "You are parsing an input address into its components. The output components should be a JSON dictionary, with the key as the component type and the value as the component value. Your performance will be evaluated on the following criteria:\n",
      "    1. information_repetition: same information from the input address should not be repeated in the components.\n",
      "    2. information_completeness: a critical address information should not be missed from the components.\n",
      "    3. irrelevance_filter: irrelevant piece of information (eg- spurious digits, characters etc) should be filtered out.\n",
      "\n",
      "---\n",
      "\n",
      "Follow the following format.\n",
      "\n",
      "Input Address: ${input_address}\n",
      "Reasoning: Let's think step by step in order to ${produce the address_components}. We ...\n",
      "Address Components: ${address_components}\n",
      "\n",
      "---\n",
      "\n",
      "Input Address: Sumi Bhavan Alanthara Venjaramoodu P O,nellanad Trivandrum Trivandrum Kerala 695607\n",
      "Reasoning: Let's think step by step in order to\u001b[32m produce the address components. We will first identify the key elements in the address such as building name, locality, post office, city, state, and pin code. Then we will filter out any irrelevant information.\n",
      "\n",
      "Address Components: \n",
      "{\n",
      "  \"Building Name\": \"Sumi Bhavan\",\n",
      "  \"Locality\": \"Alanthara\",\n",
      "  \"Post Office\": \"Venjaramoodu\",\n",
      "  \"City\": \"Trivandrum\",\n",
      "  \"State\": \"Kerala\",\n",
      "  \"Pin Code\": \"695607\"\n",
      "}\u001b[0m\n",
      "\n",
      "\n",
      "\n",
      "Input address: Sumi Bhavan Alanthara Venjaramoodu P O,nellanad Trivandrum Trivandrum Kerala 695607\n",
      "Predicted components: {\n",
      "  \"Building Name\": \"Sumi Bhavan\",\n",
      "  \"Locality\": \"Alanthara\",\n",
      "  \"Post Office\": \"Venjaramoodu\",\n",
      "  \"City\": \"Trivandrum\",\n",
      "  \"State\": \"Kerala\",\n",
      "  \"Pin Code\": \"695607\"\n",
      "}\n",
      "\n",
      "\n",
      "\n",
      "You are parsing an input address into its components. The output components should be a JSON dictionary, with the key as the component type and the value as the component value. Your performance will be evaluated on the following criteria:\n",
      "    1. information_repetition: same information from the input address should not be repeated in the components.\n",
      "    2. information_completeness: a critical address information should not be missed from the components.\n",
      "    3. irrelevance_filter: irrelevant piece of information (eg- spurious digits, characters etc) should be filtered out.\n",
      "\n",
      "---\n",
      "\n",
      "Follow the following format.\n",
      "\n",
      "Input Address: ${input_address}\n",
      "Reasoning: Let's think step by step in order to ${produce the address_components}. We ...\n",
      "Address Components: ${address_components}\n",
      "\n",
      "---\n",
      "\n",
      "Input Address: Hno 403, Domlur, 2nd Flr, Indiranagar, Bengaluru\n",
      "Reasoning: Let's think step by step in order to\u001b[32m produce the address components. We will first identify the house number, followed by the street name, floor number, locality, and city.\n",
      "\n",
      "Address Components: \n",
      "{\n",
      "  \"House Number\": \"403\",\n",
      "  \"Street Name\": \"Domlur\",\n",
      "  \"Floor Number\": \"2nd\",\n",
      "  \"Locality\": \"Indiranagar\",\n",
      "  \"City\": \"Bengaluru\"\n",
      "}\u001b[0m\n",
      "\n",
      "\n",
      "\n",
      "Input address: Hno 403, Domlur, 2nd Flr, Indiranagar, Bengaluru\n",
      "Predicted components: {\n",
      "  \"House Number\": \"403\",\n",
      "  \"Street Name\": \"Domlur\",\n",
      "  \"Floor Number\": \"2nd\",\n",
      "  \"Locality\": \"Indiranagar\",\n",
      "  \"City\": \"Bengaluru\"\n",
      "}\n",
      "\n",
      "\n",
      "\n",
      "You are parsing an input address into its components. The output components should be a JSON dictionary, with the key as the component type and the value as the component value. Your performance will be evaluated on the following criteria:\n",
      "    1. information_repetition: same information from the input address should not be repeated in the components.\n",
      "    2. information_completeness: a critical address information should not be missed from the components.\n",
      "    3. irrelevance_filter: irrelevant piece of information (eg- spurious digits, characters etc) should be filtered out.\n",
      "\n",
      "---\n",
      "\n",
      "Follow the following format.\n",
      "\n",
      "Input Address: ${input_address}\n",
      "Reasoning: Let's think step by step in order to ${produce the address_components}. We ...\n",
      "Address Components: ${address_components}\n",
      "\n",
      "---\n",
      "\n",
      "Input Address: 86 SHTRAPAL SOSAYTE BAMROLI Surat Surat Gujarat 394221\n",
      "Reasoning: Let's think step by step in order to\u001b[32m produce the address components. We will first identify the key elements in the address such as street number, street name, locality, city, state, and postal code.\n",
      "\n",
      "Address Components: \n",
      "{\n",
      "  \"street_number\": \"86\",\n",
      "  \"street_name\": \"SHTRAPAL SOSAYTE BAMROLI\",\n",
      "  \"city\": \"Surat\",\n",
      "  \"state\": \"Gujarat\",\n",
      "  \"postal_code\": \"394221\"\n",
      "}\u001b[0m\n",
      "\n",
      "\n",
      "\n",
      "Input address: 86 SHTRAPAL SOSAYTE BAMROLI Surat Surat Gujarat 394221\n",
      "Predicted components: {\n",
      "  \"street_number\": \"86\",\n",
      "  \"street_name\": \"SHTRAPAL SOSAYTE BAMROLI\",\n",
      "  \"city\": \"Surat\",\n",
      "  \"state\": \"Gujarat\",\n",
      "  \"postal_code\": \"394221\"\n",
      "}\n",
      "information_repetition: 5\n",
      "information_completeness: 5\n",
      "irrelevance_filter: 5\n",
      "\n",
      "\n",
      "\n",
      "You are parsing an input address into its components. The output components should be a JSON dictionary, with the key as the component type and the value as the component value. Your performance will be evaluated on the following criteria:\n",
      "    1. information_repetition: same information from the input address should not be repeated in the components.\n",
      "    2. information_completeness: a critical address information should not be missed from the components.\n",
      "    3. irrelevance_filter: irrelevant piece of information (eg- spurious digits, characters etc) should be filtered out.\n",
      "\n",
      "---\n",
      "\n",
      "Follow the following format.\n",
      "\n",
      "Input Address: ${input_address}\n",
      "Reasoning: Let's think step by step in order to ${produce the address_components}. We ...\n",
      "Address Components: ${address_components}\n",
      "\n",
      "---\n",
      "\n",
      "Input Address: HNO 8146 STNO 13 MILERGANJ\n",
      "Reasoning: Let's think step by step in order to\u001b[32m produce the address components. We need to identify the house number, street number, and locality from the input address.\n",
      "\n",
      "Address Components: \n",
      "{\n",
      "  \"house_number\": \"8146\",\n",
      "  \"street_number\": \"13\",\n",
      "  \"locality\": \"MILERGANJ\"\n",
      "}\u001b[0m\n",
      "\n",
      "\n",
      "\n",
      "Input address: HNO 8146 STNO 13 MILERGANJ\n",
      "Predicted components: {\n",
      "  \"house_number\": \"8146\",\n",
      "  \"street_number\": \"13\",\n",
      "  \"locality\": \"MILERGANJ\"\n",
      "}\n",
      "information_repetition: 5\n",
      "information_completeness: 3\n",
      "irrelevance_filter: 5\n",
      "\n",
      "\n",
      "\n",
      "You are parsing an input address into its components. The output components should be a JSON dictionary, with the key as the component type and the value as the component value. Your performance will be evaluated on the following criteria:\n",
      "    1. information_repetition: same information from the input address should not be repeated in the components.\n",
      "    2. information_completeness: a critical address information should not be missed from the components.\n",
      "    3. irrelevance_filter: irrelevant piece of information (eg- spurious digits, characters etc) should be filtered out.\n",
      "\n",
      "---\n",
      "\n",
      "Follow the following format.\n",
      "\n",
      "Input Address: ${input_address}\n",
      "Reasoning: Let's think step by step in order to ${produce the address_components}. We ...\n",
      "Address Components: ${address_components}\n",
      "\n",
      "---\n",
      "\n",
      "Input Address: HSE NO 12/231, 21 RAM NAGAR Ludhiana Ludhiana Punjab 141003\n",
      "Reasoning: Let's think step by step in order to\u001b[32m produce the address components. We will first identify the key elements in the address such as house number, street name, city, and state. Then we will filter out any irrelevant information like spurious digits.\n",
      "\n",
      "Address Components: \n",
      "{\n",
      "  \"House Number\": \"12/231\",\n",
      "  \"Street Name\": \"RAM NAGAR\",\n",
      "  \"City\": \"Ludhiana\",\n",
      "  \"State\": \"Punjab\",\n",
      "  \"Postal Code\": \"141003\"\n",
      "}\u001b[0m\n",
      "\n",
      "\n",
      "\n",
      "Input address: HSE NO 12/231, 21 RAM NAGAR Ludhiana Ludhiana Punjab 141003\n",
      "Predicted components: {\n",
      "  \"House Number\": \"12/231\",\n",
      "  \"Street Name\": \"RAM NAGAR\",\n",
      "  \"City\": \"Ludhiana\",\n",
      "  \"State\": \"Punjab\",\n",
      "  \"Postal Code\": \"141003\"\n",
      "}\n",
      "Average Metric: 0.7361111111111109 / 5  (14.7%)\n"
     ]
    },
    {
     "name": "stderr",
     "output_type": "stream",
     "text": [
      "\n",
      "/Users/tanmaygarg/code/dspy_fork/dspy/evaluate/evaluate.py:266: FutureWarning: Setting an item of incompatible dtype is deprecated and will raise in a future error of pandas. Value '['0.0' '0.0' '0.486111111111111' '0.25' '0.0']' has dtype incompatible with float64, please explicitly cast to a compatible dtype first.\n",
      "  df.loc[:, metric_name] = df[metric_name].apply(\n"
     ]
    },
    {
     "data": {
      "text/html": [
       "<style type=\"text/css\">\n",
       "#T_2302e th {\n",
       "  text-align: left;\n",
       "}\n",
       "#T_2302e td {\n",
       "  text-align: left;\n",
       "}\n",
       "#T_2302e_row0_col0, #T_2302e_row0_col1, #T_2302e_row0_col2, #T_2302e_row0_col3, #T_2302e_row0_col4, #T_2302e_row0_col5, #T_2302e_row0_col6, #T_2302e_row1_col0, #T_2302e_row1_col1, #T_2302e_row1_col2, #T_2302e_row1_col3, #T_2302e_row1_col4, #T_2302e_row1_col5, #T_2302e_row1_col6, #T_2302e_row2_col0, #T_2302e_row2_col1, #T_2302e_row2_col2, #T_2302e_row2_col3, #T_2302e_row2_col4, #T_2302e_row2_col5, #T_2302e_row2_col6, #T_2302e_row3_col0, #T_2302e_row3_col1, #T_2302e_row3_col2, #T_2302e_row3_col3, #T_2302e_row3_col4, #T_2302e_row3_col5, #T_2302e_row3_col6, #T_2302e_row4_col0, #T_2302e_row4_col1, #T_2302e_row4_col2, #T_2302e_row4_col3, #T_2302e_row4_col4, #T_2302e_row4_col5, #T_2302e_row4_col6 {\n",
       "  text-align: left;\n",
       "  white-space: pre-wrap;\n",
       "  word-wrap: break-word;\n",
       "  max-width: 400px;\n",
       "}\n",
       "</style>\n",
       "<table id=\"T_2302e\">\n",
       "  <thead>\n",
       "    <tr>\n",
       "      <th class=\"blank level0\" >&nbsp;</th>\n",
       "      <th id=\"T_2302e_level0_col0\" class=\"col_heading level0 col0\" >example_input_address</th>\n",
       "      <th id=\"T_2302e_level0_col1\" class=\"col_heading level0 col1\" >example_address_components</th>\n",
       "      <th id=\"T_2302e_level0_col2\" class=\"col_heading level0 col2\" >pred_address_components</th>\n",
       "      <th id=\"T_2302e_level0_col3\" class=\"col_heading level0 col3\" >pred_input_address</th>\n",
       "      <th id=\"T_2302e_level0_col4\" class=\"col_heading level0 col4\" >predictions</th>\n",
       "      <th id=\"T_2302e_level0_col5\" class=\"col_heading level0 col5\" >history</th>\n",
       "      <th id=\"T_2302e_level0_col6\" class=\"col_heading level0 col6\" >metric1</th>\n",
       "    </tr>\n",
       "  </thead>\n",
       "  <tbody>\n",
       "    <tr>\n",
       "      <th id=\"T_2302e_level0_row0\" class=\"row_heading level0 row0\" >0</th>\n",
       "      <td id=\"T_2302e_row0_col0\" class=\"data row0 col0\" >Sumi Bhavan Alanthara Venjaramoodu P O,nellanad Trivandrum Trivandrum Kerala 695607</td>\n",
       "      <td id=\"T_2302e_row0_col1\" class=\"data row0 col1\" >{\"house_number\": \"N/A\", \"house_name\": \"Sumi Bhavan\", \"locality\": \"Alanthara\", \"city\": \"Trivandrum\", \"state\": \"Kerala\", \"pincode\": \"695607\", \"post_office\": \"Venjaramoodu P O\", \"village\": \"nellanad\", \"district\": \"Trivandrum\"}\n",
       "</td>\n",
       "      <td id=\"T_2302e_row0_col2\" class=\"data row0 col2\" >{\n",
       "  \"Building Name\": \"Sumi Bhavan\",\n",
       "  \"Locality\": \"Alanthara\",\n",
       "  \"Post Office\": \"Venjaramoodu\",\n",
       "  \"City\": \"Trivandrum\",\n",
       "  \"State\": \"Kerala\",\n",
       "  \"Pin Code\": \"695607\"\n",
       "}</td>\n",
       "      <td id=\"T_2302e_row0_col3\" class=\"data row0 col3\" >Sumi Bhavan Alanthara Venjaramoodu P O,nellanad Trivandrum Trivandrum Kerala 695607</td>\n",
       "      <td id=\"T_2302e_row0_col4\" class=\"data row0 col4\" >['{\\n  \"Building Name\": \"Sumi Bhavan\",\\n  \"Locality\": \"Alanthara\",\\n  \"Post Office\": \"Venjaramoodu\",\\n  \"City\": \"Trivandrum\",\\n  \"State\": \"Kerala\",\\n  \"Pin Code\": \"695607\"\\n}']</td>\n",
       "      <td id=\"T_2302e_row0_col5\" class=\"data row0 col5\" >['\\n\\n\\nYou are parsing an input address into its components. The output components should be a JSON dictionary, with the key as the component type and...</td>\n",
       "      <td id=\"T_2302e_row0_col6\" class=\"data row0 col6\" >0.0</td>\n",
       "    </tr>\n",
       "    <tr>\n",
       "      <th id=\"T_2302e_level0_row1\" class=\"row_heading level0 row1\" >1</th>\n",
       "      <td id=\"T_2302e_row1_col0\" class=\"data row1 col0\" >Hno 403, Domlur, 2nd Flr, Indiranagar, Bengaluru</td>\n",
       "      <td id=\"T_2302e_row1_col1\" class=\"data row1 col1\" >{ \"house_number\": \"403\", \"city\": \"Bengaluru\", \"state\": \"Karnataka\", \"pincode\": \"N/A\", \"locality\": \"Domlur\", \"floor\": \"2nd Flr\", \"area\": \"Indiranagar\" } </td>\n",
       "      <td id=\"T_2302e_row1_col2\" class=\"data row1 col2\" >{\n",
       "  \"House Number\": \"403\",\n",
       "  \"Street Name\": \"Domlur\",\n",
       "  \"Floor Number\": \"2nd\",\n",
       "  \"Locality\": \"Indiranagar\",\n",
       "  \"City\": \"Bengaluru\"\n",
       "}</td>\n",
       "      <td id=\"T_2302e_row1_col3\" class=\"data row1 col3\" >Hno 403, Domlur, 2nd Flr, Indiranagar, Bengaluru</td>\n",
       "      <td id=\"T_2302e_row1_col4\" class=\"data row1 col4\" >['{\\n  \"House Number\": \"403\",\\n  \"Street Name\": \"Domlur\",\\n  \"Floor Number\": \"2nd\",\\n  \"Locality\": \"Indiranagar\",\\n  \"City\": \"Bengaluru\"\\n}']</td>\n",
       "      <td id=\"T_2302e_row1_col5\" class=\"data row1 col5\" >['\\n\\n\\nYou are parsing an input address into its components. The output components should be a JSON dictionary, with the key as the component type and...</td>\n",
       "      <td id=\"T_2302e_row1_col6\" class=\"data row1 col6\" >0.0</td>\n",
       "    </tr>\n",
       "    <tr>\n",
       "      <th id=\"T_2302e_level0_row2\" class=\"row_heading level0 row2\" >2</th>\n",
       "      <td id=\"T_2302e_row2_col0\" class=\"data row2 col0\" >86 SHTRAPAL SOSAYTE BAMROLI Surat Surat Gujarat 394221</td>\n",
       "      <td id=\"T_2302e_row2_col1\" class=\"data row2 col1\" >{ \"house_number\": \"86\", \"city\": \"Surat\", \"state\": \"Gujarat\", \"pincode\": \"394221\", \"society_name\": \"SHTRAPAL SOSAYTE\", \"locality\": \"BAMROLI\" }</td>\n",
       "      <td id=\"T_2302e_row2_col2\" class=\"data row2 col2\" >{\n",
       "  \"street_number\": \"86\",\n",
       "  \"street_name\": \"SHTRAPAL SOSAYTE BAMROLI\",\n",
       "  \"city\": \"Surat\",\n",
       "  \"state\": \"Gujarat\",\n",
       "  \"postal_code\": \"394221\"\n",
       "}</td>\n",
       "      <td id=\"T_2302e_row2_col3\" class=\"data row2 col3\" >86 SHTRAPAL SOSAYTE BAMROLI Surat Surat Gujarat 394221</td>\n",
       "      <td id=\"T_2302e_row2_col4\" class=\"data row2 col4\" >['{\\n  \"street_number\": \"86\",\\n  \"street_name\": \"SHTRAPAL SOSAYTE BAMROLI\",\\n  \"city\": \"Surat\",\\n  \"state\": \"Gujarat\",\\n  \"postal_code\": \"394221\"\\n}']</td>\n",
       "      <td id=\"T_2302e_row2_col5\" class=\"data row2 col5\" >['\\n\\n\\nYou are parsing an input address into its components. The output components should be a JSON dictionary, with the key as the component type and...</td>\n",
       "      <td id=\"T_2302e_row2_col6\" class=\"data row2 col6\" >0.486111111111111</td>\n",
       "    </tr>\n",
       "    <tr>\n",
       "      <th id=\"T_2302e_level0_row3\" class=\"row_heading level0 row3\" >3</th>\n",
       "      <td id=\"T_2302e_row3_col0\" class=\"data row3 col0\" >HNO 8146 STNO 13 MILERGANJ</td>\n",
       "      <td id=\"T_2302e_row3_col1\" class=\"data row3 col1\" >{\"house_number\": \"8146\", \"streen_number\": \"13\", \"city\": \"MILERGANJ\", \"state\": \"N/A\", \"pincode\": \"N/A\"}</td>\n",
       "      <td id=\"T_2302e_row3_col2\" class=\"data row3 col2\" >{\n",
       "  \"house_number\": \"8146\",\n",
       "  \"street_number\": \"13\",\n",
       "  \"locality\": \"MILERGANJ\"\n",
       "}</td>\n",
       "      <td id=\"T_2302e_row3_col3\" class=\"data row3 col3\" >HNO 8146 STNO 13 MILERGANJ</td>\n",
       "      <td id=\"T_2302e_row3_col4\" class=\"data row3 col4\" >['{\\n  \"house_number\": \"8146\",\\n  \"street_number\": \"13\",\\n  \"locality\": \"MILERGANJ\"\\n}']</td>\n",
       "      <td id=\"T_2302e_row3_col5\" class=\"data row3 col5\" >['\\n\\n\\nYou are parsing an input address into its components. The output components should be a JSON dictionary, with the key as the component type and...</td>\n",
       "      <td id=\"T_2302e_row3_col6\" class=\"data row3 col6\" >0.25</td>\n",
       "    </tr>\n",
       "    <tr>\n",
       "      <th id=\"T_2302e_level0_row4\" class=\"row_heading level0 row4\" >4</th>\n",
       "      <td id=\"T_2302e_row4_col0\" class=\"data row4 col0\" >HSE NO 12/231, 21 RAM NAGAR Ludhiana Ludhiana Punjab 141003</td>\n",
       "      <td id=\"T_2302e_row4_col1\" class=\"data row4 col1\" >{\"house_number\": \"12/231\", \"city\": \"Ludhiana\", \"state\": \"Punjab\", \"pincode\": \"141003\", \"locality\": \"RAM NAGAR\"}</td>\n",
       "      <td id=\"T_2302e_row4_col2\" class=\"data row4 col2\" >{\n",
       "  \"House Number\": \"12/231\",\n",
       "  \"Street Name\": \"RAM NAGAR\",\n",
       "  \"City\": \"Ludhiana\",\n",
       "  \"State\": \"Punjab\",\n",
       "  \"Postal Code\": \"141003\"\n",
       "}</td>\n",
       "      <td id=\"T_2302e_row4_col3\" class=\"data row4 col3\" >HSE NO 12/231, 21 RAM NAGAR Ludhiana Ludhiana Punjab 141003</td>\n",
       "      <td id=\"T_2302e_row4_col4\" class=\"data row4 col4\" >['{\\n  \"House Number\": \"12/231\",\\n  \"Street Name\": \"RAM NAGAR\",\\n  \"City\": \"Ludhiana\",\\n  \"State\": \"Punjab\",\\n  \"Postal Code\": \"141003\"\\n}']</td>\n",
       "      <td id=\"T_2302e_row4_col5\" class=\"data row4 col5\" >['\\n\\n\\nYou are parsing an input address into its components. The output components should be a JSON dictionary, with the key as the component type and...</td>\n",
       "      <td id=\"T_2302e_row4_col6\" class=\"data row4 col6\" >0.0</td>\n",
       "    </tr>\n",
       "  </tbody>\n",
       "</table>\n"
      ],
      "text/plain": [
       "<pandas.io.formats.style.Styler at 0x16c20d000>"
      ]
     },
     "metadata": {},
     "output_type": "display_data"
    },
    {
     "data": {
      "text/plain": [
       "14.72"
      ]
     },
     "execution_count": 96,
     "metadata": {},
     "output_type": "execute_result"
    }
   ],
   "source": [
    "from dspy.evaluate.evaluate import Evaluate\n",
    "\n",
    "evaluate = Evaluate(devset=devset[:5], num_threads=1, display_progress=True, display_table=5)\n",
    "\n",
    "evaluate(uncompiled_bot, metric=metric1)"
   ]
  },
  {
   "cell_type": "markdown",
   "id": "9978562c",
   "metadata": {},
   "source": [
    "# BootstrapFewShot"
   ]
  },
  {
   "cell_type": "code",
   "execution_count": 82,
   "id": "18712073",
   "metadata": {},
   "outputs": [
    {
     "name": "stderr",
     "output_type": "stream",
     "text": [
      " 44%|████▍     | 4/9 [00:00<00:00, 341.99it/s]\n"
     ]
    },
    {
     "name": "stdout",
     "output_type": "stream",
     "text": [
      "\n",
      "\n",
      "\n",
      "You are parsing an input address into its components. The output components should be a JSON dictionary, with the key as the component type and the value as the component value. Your performance will be evaluated on the following criteria:\n",
      "    1. information_repetition: same information from the input address should not be repeated in the components.\n",
      "    2. information_completeness: a critical address information should not be missed from the components.\n",
      "    3. irrelevance_filter: irrelevant piece of information (eg- spurious digits, characters etc) should be filtered out.\n",
      "\n",
      "---\n",
      "\n",
      "Follow the following format.\n",
      "\n",
      "Input Address: ${input_address}\n",
      "Reasoning: Let's think step by step in order to ${produce the address_components}. We ...\n",
      "Address Components: ${address_components}\n",
      "\n",
      "---\n",
      "\n",
      "Input Address: JALALABAD Dharakot Moga Punjab 142042\n",
      "Address Components: {\"house_number\": \"N/A\", \"city\": \"Jalalabad\", \"state\": \"Punjab\", \"pincode\": \"142042\", \"locality\": \"Dharakot\", \"district\": \"Moga\"}\n",
      "\n",
      "---\n",
      "\n",
      "Input Address: House 123 Near Ram Mandir Kakrala Punjab\n",
      "Address Components: {\"house_number\": \"123\", \"city\": \"Kakrala\", \"state\": \"Punjab\", \"pincode\": \"N/A\", \"landmark\": \"Near Ram Mandir\"}\n",
      "\n",
      "---\n",
      "\n",
      "Input Address: Room No 133 RAK Road Wadala Arvi Mumbai Maharashtra 400031\n",
      "Address Components: { \"house_number\": \"Room No 133\", \"city\": \"Mumbai\", \"state\": \"Maharashtra\", \"pincode\": \"400031\", \"locality\": \"Wadala\", \"street_name\": \"RAK Road\"}\n",
      "\n",
      "---\n",
      "\n",
      "Input Address: D-4/181,182 D-BLOCK SULTANPURI New Delhi Delhi Delhi 110086\n",
      "Address Components: {\"house_number\": \"D-4/181,182\", \"city\": \"New Delhi\", \"state\": \"Delhi\", \"pincode\": \"110086\", \"block\": \"D-BLOCK\"}\n",
      "\n",
      "---\n",
      "\n",
      "Input Address: C-102 Payal Colony Sector 14 Gurgaon\n",
      "Address Components: { \"house_number\": \"C-102\", \"city\": \"Gurgaon\", \"state\": \"Haryana\", \"pincode\": \"N/A\", \"colony_name\": \"Payal Colony\", \"sector\": \"Sector 14\" }\n",
      "\n",
      "---\n",
      "\n",
      "Input Address: WARD 09 LASANPUR BUARI DAGARUA PURNIA\n",
      "Address Components: {\"house_number\": \"N/A\", \"ward_number\": \"09\", \"city\": \"Purnia\", \"state\": \"N/A\", \"pincode\": \"N/A\", \"locality\": \"Lasanpur Buari Dagarua\"}\n",
      "\n",
      "---\n",
      "\n",
      "Input Address: JALAL ROAD SAMADH BHAI Baghapurana Moga Punjab 142057\n",
      "Address Components: {\"house_number\": \"N/A\", \"street_name\": \"JALAL ROAD\", \"locality\": \"N/A\", \"city\": \"Baghapurana\", \"state\": \"Punjab\", \"pincode\": \"142057\"}\n",
      "\n",
      "---\n",
      "\n",
      "Input Address: chandra nagar thakur mohlla koteswar mandir Gwalior Gwalior Madhya Pradesh 474003\n",
      "Reasoning: Let's think step by step in order to\u001b[32m produce the address components. We first identify the key elements such as house number, locality, city, state, and pincode. Then we filter out any irrelevant information.\n",
      "Address Components: {\"house_number\": \"N/A\", \"locality\": \"Chandra Nagar Thakur Mohalla\", \"city\": \"Gwalior\", \"state\": \"Madhya Pradesh\", \"pincode\": \"474003\", \"landmark\": \"Koteswar Mandir\"}\u001b[0m\n",
      "\n",
      "\n",
      "\n",
      "Input address: chandra nagar thakur mohlla koteswar mandir Gwalior Gwalior Madhya Pradesh 474003\n",
      "Predicted components: {\"house_number\": \"N/A\", \"locality\": \"Chandra Nagar Thakur Mohalla\", \"city\": \"Gwalior\", \"state\": \"Madhya Pradesh\", \"pincode\": \"474003\", \"landmark\": \"Koteswar Mandir\"}\n",
      "information_repetition: 5\n",
      "information_completeness: 5\n",
      "irrelevance_filter: 5\n",
      "\n",
      "\n",
      "\n",
      "You are parsing an input address into its components. The output components should be a JSON dictionary, with the key as the component type and the value as the component value. Your performance will be evaluated on the following criteria:\n",
      "    1. information_repetition: same information from the input address should not be repeated in the components.\n",
      "    2. information_completeness: a critical address information should not be missed from the components.\n",
      "    3. irrelevance_filter: irrelevant piece of information (eg- spurious digits, characters etc) should be filtered out.\n",
      "\n",
      "---\n",
      "\n",
      "Follow the following format.\n",
      "\n",
      "Input Address: ${input_address}\n",
      "Reasoning: Let's think step by step in order to ${produce the address_components}. We ...\n",
      "Address Components: ${address_components}\n",
      "\n",
      "---\n",
      "\n",
      "Input Address: JALALABAD Dharakot Moga Punjab 142042\n",
      "Address Components: {\"house_number\": \"N/A\", \"city\": \"Jalalabad\", \"state\": \"Punjab\", \"pincode\": \"142042\", \"locality\": \"Dharakot\", \"district\": \"Moga\"}\n",
      "\n",
      "---\n",
      "\n",
      "Input Address: House 123 Near Ram Mandir Kakrala Punjab\n",
      "Address Components: {\"house_number\": \"123\", \"city\": \"Kakrala\", \"state\": \"Punjab\", \"pincode\": \"N/A\", \"landmark\": \"Near Ram Mandir\"}\n",
      "\n",
      "---\n",
      "\n",
      "Input Address: chandra nagar thakur mohlla koteswar mandir Gwalior Gwalior Madhya Pradesh 474003\n",
      "Address Components: { \"house_number\": \"N/A\", \"city\": \"Gwalior\", \"state\": \"Madhya Pradesh\", \"pincode\": \"474003\", \"locality\": \"chandra nagar thakur mohlla\", \"landmark\": \"koteswar mandir\"}\n",
      "\n",
      "---\n",
      "\n",
      "Input Address: Room No 133 RAK Road Wadala Arvi Mumbai Maharashtra 400031\n",
      "Address Components: { \"house_number\": \"Room No 133\", \"city\": \"Mumbai\", \"state\": \"Maharashtra\", \"pincode\": \"400031\", \"locality\": \"Wadala\", \"street_name\": \"RAK Road\"}\n",
      "\n",
      "---\n",
      "\n",
      "Input Address: D-4/181,182 D-BLOCK SULTANPURI New Delhi Delhi Delhi 110086\n",
      "Address Components: {\"house_number\": \"D-4/181,182\", \"city\": \"New Delhi\", \"state\": \"Delhi\", \"pincode\": \"110086\", \"block\": \"D-BLOCK\"}\n",
      "\n",
      "---\n",
      "\n",
      "Input Address: C-102 Payal Colony Sector 14 Gurgaon\n",
      "Address Components: { \"house_number\": \"C-102\", \"city\": \"Gurgaon\", \"state\": \"Haryana\", \"pincode\": \"N/A\", \"colony_name\": \"Payal Colony\", \"sector\": \"Sector 14\" }\n",
      "\n",
      "---\n",
      "\n",
      "Input Address: JALAL ROAD SAMADH BHAI Baghapurana Moga Punjab 142057\n",
      "Address Components: {\"house_number\": \"N/A\", \"street_name\": \"JALAL ROAD\", \"locality\": \"N/A\", \"city\": \"Baghapurana\", \"state\": \"Punjab\", \"pincode\": \"142057\"}\n",
      "\n",
      "---\n",
      "\n",
      "Input Address: WARD 09 LASANPUR BUARI DAGARUA PURNIA\n",
      "Reasoning: Let's think step by step in order to\u001b[32m produce the address components. We can see that the input address does not have a specific house number or street name, so we will focus on the locality, city, and state information.\n",
      "Address Components: {\"house_number\": \"N/A\", \"street_name\": \"N/A\", \"locality\": \"LASANPUR BUARI DAGARUA\", \"city\": \"Purnia\", \"state\": \"Bihar\", \"pincode\": \"N/A\", \"ward\": \"Ward 09\"}\u001b[0m\n",
      "\n",
      "\n",
      "\n",
      "Input address: WARD 09 LASANPUR BUARI DAGARUA PURNIA\n",
      "Predicted components: {\"house_number\": \"N/A\", \"street_name\": \"N/A\", \"locality\": \"LASANPUR BUARI DAGARUA\", \"city\": \"Purnia\", \"state\": \"Bihar\", \"pincode\": \"N/A\", \"ward\": \"Ward 09\"}\n",
      "information_repetition: 5\n",
      "information_completeness: 5\n",
      "irrelevance_filter: 5\n",
      "\n",
      "\n",
      "\n",
      "You are parsing an input address into its components. The output components should be a JSON dictionary, with the key as the component type and the value as the component value. Your performance will be evaluated on the following criteria:\n",
      "    1. information_repetition: same information from the input address should not be repeated in the components.\n",
      "    2. information_completeness: a critical address information should not be missed from the components.\n",
      "    3. irrelevance_filter: irrelevant piece of information (eg- spurious digits, characters etc) should be filtered out.\n",
      "\n",
      "---\n",
      "\n",
      "Follow the following format.\n",
      "\n",
      "Input Address: ${input_address}\n",
      "Reasoning: Let's think step by step in order to ${produce the address_components}. We ...\n",
      "Address Components: ${address_components}\n",
      "\n",
      "---\n",
      "\n",
      "Input Address: JALALABAD Dharakot Moga Punjab 142042\n",
      "Address Components: {\"house_number\": \"N/A\", \"city\": \"Jalalabad\", \"state\": \"Punjab\", \"pincode\": \"142042\", \"locality\": \"Dharakot\", \"district\": \"Moga\"}\n",
      "\n",
      "---\n",
      "\n",
      "Input Address: House 123 Near Ram Mandir Kakrala Punjab\n",
      "Address Components: {\"house_number\": \"123\", \"city\": \"Kakrala\", \"state\": \"Punjab\", \"pincode\": \"N/A\", \"landmark\": \"Near Ram Mandir\"}\n",
      "\n",
      "---\n",
      "\n",
      "Input Address: chandra nagar thakur mohlla koteswar mandir Gwalior Gwalior Madhya Pradesh 474003\n",
      "Address Components: { \"house_number\": \"N/A\", \"city\": \"Gwalior\", \"state\": \"Madhya Pradesh\", \"pincode\": \"474003\", \"locality\": \"chandra nagar thakur mohlla\", \"landmark\": \"koteswar mandir\"}\n",
      "\n",
      "---\n",
      "\n",
      "Input Address: D-4/181,182 D-BLOCK SULTANPURI New Delhi Delhi Delhi 110086\n",
      "Address Components: {\"house_number\": \"D-4/181,182\", \"city\": \"New Delhi\", \"state\": \"Delhi\", \"pincode\": \"110086\", \"block\": \"D-BLOCK\"}\n",
      "\n",
      "---\n",
      "\n",
      "Input Address: C-102 Payal Colony Sector 14 Gurgaon\n",
      "Address Components: { \"house_number\": \"C-102\", \"city\": \"Gurgaon\", \"state\": \"Haryana\", \"pincode\": \"N/A\", \"colony_name\": \"Payal Colony\", \"sector\": \"Sector 14\" }\n",
      "\n",
      "---\n",
      "\n",
      "Input Address: WARD 09 LASANPUR BUARI DAGARUA PURNIA\n",
      "Address Components: {\"house_number\": \"N/A\", \"ward_number\": \"09\", \"city\": \"Purnia\", \"state\": \"N/A\", \"pincode\": \"N/A\", \"locality\": \"Lasanpur Buari Dagarua\"}\n",
      "\n",
      "---\n",
      "\n",
      "Input Address: JALAL ROAD SAMADH BHAI Baghapurana Moga Punjab 142057\n",
      "Address Components: {\"house_number\": \"N/A\", \"street_name\": \"JALAL ROAD\", \"locality\": \"N/A\", \"city\": \"Baghapurana\", \"state\": \"Punjab\", \"pincode\": \"142057\"}\n",
      "\n",
      "---\n",
      "\n",
      "Input Address: Room No 133 RAK Road Wadala Arvi Mumbai Maharashtra 400031\n",
      "Reasoning: Let's think step by step in order to\u001b[32m produce the address components. We need to identify the house number, street name, locality, city, state, and pincode from the input address.\n",
      "Address Components: {\"house_number\": \"133\", \"street_name\": \"RAK Road\", \"locality\": \"Wadala Arvi\", \"city\": \"Mumbai\", \"state\": \"Maharashtra\", \"pincode\": \"400031\"}\u001b[0m\n",
      "\n",
      "\n",
      "\n",
      "Input address: Room No 133 RAK Road  Wadala Arvi Mumbai Maharashtra 400031\n",
      "Predicted components: {\"house_number\": \"133\", \"street_name\": \"RAK Road\", \"locality\": \"Wadala Arvi\", \"city\": \"Mumbai\", \"state\": \"Maharashtra\", \"pincode\": \"400031\"}\n",
      "information_repetition: 5\n",
      "information_completeness: 4\n",
      "irrelevance_filter: 5\n",
      "\n",
      "\n",
      "\n",
      "You are parsing an input address into its components. The output components should be a JSON dictionary, with the key as the component type and the value as the component value. Your performance will be evaluated on the following criteria:\n",
      "    1. information_repetition: same information from the input address should not be repeated in the components.\n",
      "    2. information_completeness: a critical address information should not be missed from the components.\n",
      "    3. irrelevance_filter: irrelevant piece of information (eg- spurious digits, characters etc) should be filtered out.\n",
      "\n",
      "---\n",
      "\n",
      "Follow the following format.\n",
      "\n",
      "Input Address: ${input_address}\n",
      "Reasoning: Let's think step by step in order to ${produce the address_components}. We ...\n",
      "Address Components: ${address_components}\n",
      "\n",
      "---\n",
      "\n",
      "Input Address: JALALABAD Dharakot Moga Punjab 142042\n",
      "Address Components: {\"house_number\": \"N/A\", \"city\": \"Jalalabad\", \"state\": \"Punjab\", \"pincode\": \"142042\", \"locality\": \"Dharakot\", \"district\": \"Moga\"}\n",
      "\n",
      "---\n",
      "\n",
      "Input Address: House 123 Near Ram Mandir Kakrala Punjab\n",
      "Address Components: {\"house_number\": \"123\", \"city\": \"Kakrala\", \"state\": \"Punjab\", \"pincode\": \"N/A\", \"landmark\": \"Near Ram Mandir\"}\n",
      "\n",
      "---\n",
      "\n",
      "Input Address: chandra nagar thakur mohlla koteswar mandir Gwalior Gwalior Madhya Pradesh 474003\n",
      "Address Components: { \"house_number\": \"N/A\", \"city\": \"Gwalior\", \"state\": \"Madhya Pradesh\", \"pincode\": \"474003\", \"locality\": \"chandra nagar thakur mohlla\", \"landmark\": \"koteswar mandir\"}\n",
      "\n",
      "---\n",
      "\n",
      "Input Address: Room No 133 RAK Road Wadala Arvi Mumbai Maharashtra 400031\n",
      "Address Components: { \"house_number\": \"Room No 133\", \"city\": \"Mumbai\", \"state\": \"Maharashtra\", \"pincode\": \"400031\", \"locality\": \"Wadala\", \"street_name\": \"RAK Road\"}\n",
      "\n",
      "---\n",
      "\n",
      "Input Address: D-4/181,182 D-BLOCK SULTANPURI New Delhi Delhi Delhi 110086\n",
      "Address Components: {\"house_number\": \"D-4/181,182\", \"city\": \"New Delhi\", \"state\": \"Delhi\", \"pincode\": \"110086\", \"block\": \"D-BLOCK\"}\n",
      "\n",
      "---\n",
      "\n",
      "Input Address: WARD 09 LASANPUR BUARI DAGARUA PURNIA\n",
      "Address Components: {\"house_number\": \"N/A\", \"ward_number\": \"09\", \"city\": \"Purnia\", \"state\": \"N/A\", \"pincode\": \"N/A\", \"locality\": \"Lasanpur Buari Dagarua\"}\n",
      "\n",
      "---\n",
      "\n",
      "Input Address: JALAL ROAD SAMADH BHAI Baghapurana Moga Punjab 142057\n",
      "Address Components: {\"house_number\": \"N/A\", \"street_name\": \"JALAL ROAD\", \"locality\": \"N/A\", \"city\": \"Baghapurana\", \"state\": \"Punjab\", \"pincode\": \"142057\"}\n",
      "\n",
      "---\n",
      "\n",
      "Input Address: C-102 Payal Colony Sector 14 Gurgaon\n",
      "Reasoning: Let's think step by step in order to\u001b[32m produce the address components. We first identify the house number, then the locality, city, and finally the state.\n",
      "Address Components: {\"house_number\": \"C-102\", \"colony\": \"Payal Colony\", \"sector\": \"Sector 14\", \"city\": \"Gurgaon\", \"state\": \"Haryana\", \"pincode\": \"N/A\"}\u001b[0m\n",
      "\n",
      "\n",
      "\n",
      "Input address: C-102 Payal Colony Sector 14 Gurgaon\n",
      "Predicted components: {\"house_number\": \"C-102\", \"colony\": \"Payal Colony\", \"sector\": \"Sector 14\", \"city\": \"Gurgaon\", \"state\": \"Haryana\", \"pincode\": \"N/A\"}\n",
      "information_repetition: 5\n",
      "information_completeness: 4\n",
      "irrelevance_filter: 5\n"
     ]
    },
    {
     "name": "stderr",
     "output_type": "stream",
     "text": [
      "  0%|          | 0/9 [00:00<?, ?it/s]\n",
      "  0%|          | 0/9 [00:00<?, ?it/s]"
     ]
    },
    {
     "name": "stdout",
     "output_type": "stream",
     "text": [
      "Bootstrapped 4 full traces after 1 examples in round 2.\n"
     ]
    },
    {
     "name": "stderr",
     "output_type": "stream",
     "text": [
      "\n"
     ]
    }
   ],
   "source": [
    "from dspy.teleprompt import BootstrapFewShot\n",
    "\n",
    "teleprompter = BootstrapFewShot(metric=metric1, max_labeled_demos=8, max_rounds=3)\n",
    "\n",
    "# also common to init here, e.g. Rag()\n",
    "compiled_bot = teleprompter.compile(uncompiled_bot, trainset=trainset)"
   ]
  },
  {
   "cell_type": "markdown",
   "id": "acd62e57",
   "metadata": {},
   "source": [
    "### Inspect the compiled prompt"
   ]
  },
  {
   "cell_type": "code",
   "execution_count": 83,
   "id": "dbe2e6ef",
   "metadata": {},
   "outputs": [
    {
     "data": {
      "text/plain": [
       "Example({'input_address': 'Sumi Bhavan Alanthara Venjaramoodu P O,nellanad Trivandrum Trivandrum Kerala 695607', 'address_components': '{\"house_number\": \"N/A\", \"house_name\": \"Sumi Bhavan\", \"locality\": \"Alanthara\", \"city\": \"Trivandrum\", \"state\": \"Kerala\", \"pincode\": \"695607\", \"post_office\": \"Venjaramoodu P O\", \"village\": \"nellanad\", \"district\": \"Trivandrum\"}\\n'}) (input_keys={'input_address'})"
      ]
     },
     "execution_count": 83,
     "metadata": {},
     "output_type": "execute_result"
    }
   ],
   "source": [
    "devset[0]"
   ]
  },
  {
   "cell_type": "code",
   "execution_count": 84,
   "id": "55454285",
   "metadata": {},
   "outputs": [
    {
     "name": "stdout",
     "output_type": "stream",
     "text": [
      "Sumi Bhavan Alanthara Venjaramoodu P O,nellanad Trivandrum Trivandrum Kerala 695607\n",
      "Hno 403, Domlur, 2nd Flr, Indiranagar, Bengaluru\n",
      "86 SHTRAPAL SOSAYTE BAMROLI Surat Surat Gujarat 394221\n",
      "HNO 8146 STNO 13 MILERGANJ\n",
      "HSE NO 12/231, 21 RAM NAGAR Ludhiana Ludhiana Punjab 141003\n",
      "BLOCK 280 AWAS NO 08 GANGA GANJ PANKI\n",
      "3 d/o mohd hasan, jeevangarh, hn 96, ambari Jeevangarh jeevangarh, Jiwangarh, ambari,Vikasnagar Dehradun Dehradun Uttaranchal 248125\n",
      "Grand Ajnara Heritage F-1201 Noida\n",
      "NABGHARA, HAORA NABGHARA MULLICK PARA Panchla Howrah West Bengal 711322\n",
      "324 PRVESH VIHAR BANTHLA GHAZIABAD\n",
      "A-373 Behind Payal Cinemas Gurgaon\n",
      "HNo 136 Thane Mumbai Maharashtra\n"
     ]
    }
   ],
   "source": [
    "for gold in devset:\n",
    "    print(gold.input_address)"
   ]
  },
  {
   "cell_type": "code",
   "execution_count": 89,
   "id": "9507f2de",
   "metadata": {},
   "outputs": [
    {
     "name": "stdout",
     "output_type": "stream",
     "text": [
      "\n",
      "\n",
      "\n",
      "You are parsing an input address into its components. The output components should be a JSON dictionary, with the key as the component type and the value as the component value. Your performance will be evaluated on the following criteria:\n",
      "    1. information_repetition: same information from the input address should not be repeated in the components.\n",
      "    2. information_completeness: a critical address information should not be missed from the components.\n",
      "    3. irrelevance_filter: irrelevant piece of information (eg- spurious digits, characters etc) should be filtered out.\n",
      "\n",
      "---\n",
      "\n",
      "Follow the following format.\n",
      "\n",
      "Input Address: ${input_address}\n",
      "Reasoning: Let's think step by step in order to ${produce the address_components}. We ...\n",
      "Address Components: ${address_components}\n",
      "\n",
      "---\n",
      "\n",
      "Input Address: chandra nagar thakur mohlla koteswar mandir Gwalior Gwalior Madhya Pradesh 474003\n",
      "Reasoning: Let's think step by step in order to produce the address components. We first identify the key elements such as house number, locality, city, state, and pincode. Then we filter out any irrelevant information.\n",
      "Address Components: {\"house_number\": \"N/A\", \"locality\": \"Chandra Nagar Thakur Mohalla\", \"city\": \"Gwalior\", \"state\": \"Madhya Pradesh\", \"pincode\": \"474003\", \"landmark\": \"Koteswar Mandir\"}\n",
      "\n",
      "---\n",
      "\n",
      "Input Address: WARD 09 LASANPUR BUARI DAGARUA PURNIA\n",
      "Reasoning: Let's think step by step in order to produce the address components. We can see that the input address does not have a specific house number or street name, so we will focus on the locality, city, and state information.\n",
      "Address Components: {\"house_number\": \"N/A\", \"street_name\": \"N/A\", \"locality\": \"LASANPUR BUARI DAGARUA\", \"city\": \"Purnia\", \"state\": \"Bihar\", \"pincode\": \"N/A\", \"ward\": \"Ward 09\"}\n",
      "\n",
      "---\n",
      "\n",
      "Input Address: Room No 133 RAK Road Wadala Arvi Mumbai Maharashtra 400031\n",
      "Reasoning: Let's think step by step in order to produce the address components. We need to identify the house number, street name, locality, city, state, and pincode from the input address.\n",
      "Address Components: {\"house_number\": \"133\", \"street_name\": \"RAK Road\", \"locality\": \"Wadala Arvi\", \"city\": \"Mumbai\", \"state\": \"Maharashtra\", \"pincode\": \"400031\"}\n",
      "\n",
      "---\n",
      "\n",
      "Input Address: C-102 Payal Colony Sector 14 Gurgaon\n",
      "Reasoning: Let's think step by step in order to produce the address components. We first identify the house number, then the locality, city, and finally the state.\n",
      "Address Components: {\"house_number\": \"C-102\", \"colony\": \"Payal Colony\", \"sector\": \"Sector 14\", \"city\": \"Gurgaon\", \"state\": \"Haryana\", \"pincode\": \"N/A\"}\n",
      "\n",
      "---\n",
      "\n",
      "Input Address: House 123 Near Ram Mandir Kakrala Punjab\n",
      "Address Components: {\"house_number\": \"123\", \"city\": \"Kakrala\", \"state\": \"Punjab\", \"pincode\": \"N/A\", \"landmark\": \"Near Ram Mandir\"}\n",
      "\n",
      "---\n",
      "\n",
      "Input Address: SAHYADRI HOSPITAL LTD HADAPSAR PUNE BHOSALE GARDEN HADAPSAR Pune Pune Maharashtra 411028\n",
      "Address Components: { \"house_number\": \"N/A\", \"landmark\": \"SAHYADRI HOSPITAL LTD\", \"city\": \"Pune\", \"state\": \"Maharashtra\", \"pincode\": \"411028\", \"locality\": \"HADAPSAR\", \"colony_name\": \"BHOSALE GARDEN\"}\n",
      "\n",
      "---\n",
      "\n",
      "Input Address: JALALABAD Dharakot Moga Punjab 142042\n",
      "Address Components: {\"house_number\": \"N/A\", \"city\": \"Jalalabad\", \"state\": \"Punjab\", \"pincode\": \"142042\", \"locality\": \"Dharakot\", \"district\": \"Moga\"}\n",
      "\n",
      "---\n",
      "\n",
      "Input Address: JALAL ROAD SAMADH BHAI Baghapurana Moga Punjab 142057\n",
      "Address Components: {\"house_number\": \"N/A\", \"street_name\": \"JALAL ROAD\", \"locality\": \"N/A\", \"city\": \"Baghapurana\", \"state\": \"Punjab\", \"pincode\": \"142057\"}\n",
      "\n",
      "---\n",
      "\n",
      "Input Address: 86 SHTRAPAL SOSAYTE BAMROLI Surat Surat Gujarat 394221\n",
      "Reasoning: Let's think step by step in order to\u001b[32m produce the address components. We first identify the house number, street name, locality, city, state, and pincode from the input address.\n",
      "Address Components: {\"house_number\": \"86\", \"street_name\": \"SHTRAPAL SOSAYTE BAMROLI\", \"locality\": \"N/A\", \"city\": \"Surat\", \"state\": \"Gujarat\", \"pincode\": \"394221\"}\u001b[0m\n",
      "\n",
      "\n",
      "\n"
     ]
    }
   ],
   "source": [
    "gold = devset[2]\n",
    "pred = compiled_bot(gold.input_address)"
   ]
  },
  {
   "cell_type": "code",
   "execution_count": 90,
   "id": "d7294576",
   "metadata": {},
   "outputs": [
    {
     "name": "stdout",
     "output_type": "stream",
     "text": [
      "Input address: 86 SHTRAPAL SOSAYTE BAMROLI Surat Surat Gujarat 394221\n",
      "Predicted components: {\"house_number\": \"86\", \"street_name\": \"SHTRAPAL SOSAYTE BAMROLI\", \"locality\": \"N/A\", \"city\": \"Surat\", \"state\": \"Gujarat\", \"pincode\": \"394221\"}\n",
      "information_repetition: 5\n",
      "information_completeness: 4\n",
      "irrelevance_filter: 5\n"
     ]
    },
    {
     "data": {
      "text/plain": [
       "4.5"
      ]
     },
     "execution_count": 90,
     "metadata": {},
     "output_type": "execute_result"
    }
   ],
   "source": [
    "\n",
    "metric1(gold=gold, pred=pred, trace=None)"
   ]
  },
  {
   "cell_type": "code",
   "execution_count": 91,
   "id": "e22679ee",
   "metadata": {},
   "outputs": [
    {
     "data": {
      "text/plain": [
       "'{ \"house_number\": \"86\", \"city\": \"Surat\", \"state\": \"Gujarat\", \"pincode\": \"394221\", \"society_name\": \"SHTRAPAL SOSAYTE\", \"locality\": \"BAMROLI\" }'"
      ]
     },
     "execution_count": 91,
     "metadata": {},
     "output_type": "execute_result"
    }
   ],
   "source": [
    "gold.address_components"
   ]
  },
  {
   "cell_type": "code",
   "execution_count": null,
   "id": "37e6fcf2",
   "metadata": {},
   "outputs": [],
   "source": [
    "llm.inspect_history(n=1)"
   ]
  },
  {
   "cell_type": "markdown",
   "id": "c0ed105e",
   "metadata": {},
   "source": [
    "### Evaluate the Compiled Bot"
   ]
  },
  {
   "cell_type": "code",
   "execution_count": null,
   "id": "c8926c7e",
   "metadata": {},
   "outputs": [],
   "source": [
    "evaluate(compiled_bot, metric=metric1)"
   ]
  },
  {
   "cell_type": "markdown",
   "id": "789072a8",
   "metadata": {},
   "source": [
    "# BootstrapFewShotWithRandomSearch"
   ]
  },
  {
   "cell_type": "code",
   "execution_count": null,
   "id": "fde3ed1b",
   "metadata": {},
   "outputs": [],
   "source": [
    "# Accidentally spent $12 on this with `num_candidate_programs=20`, caution!"
   ]
  },
  {
   "cell_type": "code",
   "execution_count": null,
   "id": "5998cbb1",
   "metadata": {},
   "outputs": [],
   "source": [
    "from dspy.teleprompt import BootstrapFewShotWithRandomSearch\n",
    "\n",
    "teleprompter = BootstrapFewShotWithRandomSearch(metric=metric1, \n",
    "                                                max_bootstrapped_demos=4,\n",
    "                                                max_labeled_demos=4, \n",
    "                                                max_rounds=1,\n",
    "                                                num_candidate_programs=2,\n",
    "                                                num_threads=2)\n",
    "\n",
    "# also common to init here, e.g. Rag()\n",
    "second_compiled_rag = teleprompter.compile(uncompiled_rag, trainset=trainset)"
   ]
  },
  {
   "cell_type": "code",
   "execution_count": null,
   "id": "ee6302e6",
   "metadata": {},
   "outputs": [],
   "source": [
    "second_compiled_rag(\"What do cross encoders do?\")"
   ]
  },
  {
   "cell_type": "code",
   "execution_count": null,
   "id": "705c183e",
   "metadata": {},
   "outputs": [],
   "source": [
    "llm.inspect_history(n=1)"
   ]
  },
  {
   "cell_type": "code",
   "execution_count": null,
   "id": "6de6d6c1",
   "metadata": {},
   "outputs": [],
   "source": [
    "evaluate(second_compiled_rag, metric=metric1)"
   ]
  },
  {
   "cell_type": "markdown",
   "id": "e6f1e2b1",
   "metadata": {},
   "source": [
    "# BayesianSignatureOptimizer"
   ]
  },
  {
   "cell_type": "code",
   "execution_count": null,
   "id": "2e272916",
   "metadata": {},
   "outputs": [],
   "source": [
    "from dspy.teleprompt import BayesianSignatureOptimizer\n",
    "\n",
    "llm_prompter = dspy.OpenAI(model='gpt-4', max_tokens=2000, model_type='chat')\n",
    "\n",
    "teleprompter = BayesianSignatureOptimizer(task_model=dspy.settings.lm,\n",
    "                                          metric=metric1,\n",
    "                                          prompt_model=llm_prompter,\n",
    "                                          n=5,\n",
    "                                          verbose=False)\n",
    "\n",
    "kwargs = dict(num_threads=1, display_progress=True, display_table=0)\n",
    "third_compiled_rag = teleprompter.compile(RAG(), devset=devset,\n",
    "                                         optuna_trials_num=3,\n",
    "                                         max_bootstrapped_demos=4,\n",
    "                                         max_labeled_demos=4,\n",
    "                                         eval_kwargs=kwargs)"
   ]
  },
  {
   "cell_type": "code",
   "execution_count": null,
   "id": "0bc8cb65",
   "metadata": {},
   "outputs": [],
   "source": [
    "third_compiled_rag(\"What do cross encoders do?\")"
   ]
  },
  {
   "cell_type": "markdown",
   "id": "1367bcc7",
   "metadata": {},
   "source": [
    "# Check this out!!\n",
    "\n",
    "Below you can see how the BayesianSignatureOptimizer jointly (1) optimizes the task instruction to:\n",
    "\n",
    "```\n",
    "Assess the context and answer the given questions that are predominantly about software usage, process optimization, and troubleshooting. Focus on providing accurate information related to tech or software-related queries.\n",
    "```\n",
    "\n",
    "As well as sourcing input-output examples for the prompt!"
   ]
  },
  {
   "cell_type": "code",
   "execution_count": null,
   "id": "a834857c",
   "metadata": {},
   "outputs": [],
   "source": [
    "llm.inspect_history(n=1)"
   ]
  },
  {
   "cell_type": "code",
   "execution_count": null,
   "id": "e98db525",
   "metadata": {},
   "outputs": [],
   "source": [
    "evaluate(third_compiled_rag, metric=metric1)"
   ]
  },
  {
   "cell_type": "markdown",
   "id": "0ecdc368",
   "metadata": {},
   "source": [
    "# Test Set Eval"
   ]
  },
  {
   "cell_type": "code",
   "execution_count": null,
   "id": "cb3f6e47",
   "metadata": {},
   "outputs": [],
   "source": [
    "# Evaluate Uncompiled\n",
    "from dspy.evaluate.evaluate import Evaluate\n",
    "\n",
    "# Set up the `evaluate_on_hotpotqa` function. We'll use this many times below.\n",
    "evaluate = Evaluate(devset=testset, num_threads=1, display_progress=True, display_table=5)"
   ]
  },
  {
   "cell_type": "code",
   "execution_count": null,
   "id": "f9ec6960",
   "metadata": {},
   "outputs": [],
   "source": [
    "evaluate(uncompiled_rag, metric=metric1)"
   ]
  },
  {
   "cell_type": "code",
   "execution_count": null,
   "id": "f919a59c",
   "metadata": {},
   "outputs": [],
   "source": [
    "evaluate(compiled_rag, metric=metric1)"
   ]
  },
  {
   "cell_type": "code",
   "execution_count": null,
   "id": "54b00bcb",
   "metadata": {},
   "outputs": [],
   "source": [
    "evaluate(second_compiled_rag, metric=metric1)"
   ]
  },
  {
   "cell_type": "code",
   "execution_count": null,
   "id": "a0790a4b",
   "metadata": {},
   "outputs": [],
   "source": [
    "evaluate(third_compiled_rag, metric=metric1)"
   ]
  },
  {
   "cell_type": "code",
   "execution_count": null,
   "id": "7f76b0ad",
   "metadata": {},
   "outputs": [],
   "source": []
  }
 ],
 "metadata": {
  "kernelspec": {
   "display_name": "Python 3 (ipykernel)",
   "language": "python",
   "name": "python3"
  },
  "language_info": {
   "codemirror_mode": {
    "name": "ipython",
    "version": 3
   },
   "file_extension": ".py",
   "mimetype": "text/x-python",
   "name": "python",
   "nbconvert_exporter": "python",
   "pygments_lexer": "ipython3",
   "version": "3.10.14"
  }
 },
 "nbformat": 4,
 "nbformat_minor": 5
}
